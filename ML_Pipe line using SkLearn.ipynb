{
 "cells": [
  {
   "cell_type": "code",
   "execution_count": 1,
   "id": "15042fc5",
   "metadata": {},
   "outputs": [],
   "source": [
    "from sklearn.pipeline import Pipeline\n",
    "## Features Scaling\n",
    "from sklearn.preprocessing import StandardScaler\n",
    "from sklearn.linear_model import LogisticRegression"
   ]
  },
  {
   "cell_type": "code",
   "execution_count": 3,
   "id": "ca0da892",
   "metadata": {},
   "outputs": [],
   "source": [
    "steps=[(\"Standard_scaler\",StandardScaler()),\n",
    "      (\"classifier\",LogisticRegression())]"
   ]
  },
  {
   "cell_type": "code",
   "execution_count": 4,
   "id": "4d6c4baa",
   "metadata": {},
   "outputs": [
    {
     "data": {
      "text/plain": [
       "[('Standard_scaler', StandardScaler()), ('classifier', LogisticRegression())]"
      ]
     },
     "execution_count": 4,
     "metadata": {},
     "output_type": "execute_result"
    }
   ],
   "source": [
    "steps"
   ]
  },
  {
   "cell_type": "code",
   "execution_count": 7,
   "id": "8845826e",
   "metadata": {},
   "outputs": [],
   "source": [
    "pipe=Pipeline(steps)"
   ]
  },
  {
   "cell_type": "code",
   "execution_count": 8,
   "id": "8b143b9f",
   "metadata": {},
   "outputs": [],
   "source": [
    "## Visualize Pipeline\n",
    "from sklearn import set_config "
   ]
  },
  {
   "cell_type": "code",
   "execution_count": 9,
   "id": "b1b80452",
   "metadata": {},
   "outputs": [],
   "source": [
    "set_config(display=\"diagram\")"
   ]
  },
  {
   "cell_type": "code",
   "execution_count": 10,
   "id": "a8f4750d",
   "metadata": {},
   "outputs": [
    {
     "data": {
      "text/html": [
       "<style>#sk-f035a08c-d9df-4f52-83f9-521addc19362 {color: black;background-color: white;}#sk-f035a08c-d9df-4f52-83f9-521addc19362 pre{padding: 0;}#sk-f035a08c-d9df-4f52-83f9-521addc19362 div.sk-toggleable {background-color: white;}#sk-f035a08c-d9df-4f52-83f9-521addc19362 label.sk-toggleable__label {cursor: pointer;display: block;width: 100%;margin-bottom: 0;padding: 0.3em;box-sizing: border-box;text-align: center;}#sk-f035a08c-d9df-4f52-83f9-521addc19362 label.sk-toggleable__label-arrow:before {content: \"▸\";float: left;margin-right: 0.25em;color: #696969;}#sk-f035a08c-d9df-4f52-83f9-521addc19362 label.sk-toggleable__label-arrow:hover:before {color: black;}#sk-f035a08c-d9df-4f52-83f9-521addc19362 div.sk-estimator:hover label.sk-toggleable__label-arrow:before {color: black;}#sk-f035a08c-d9df-4f52-83f9-521addc19362 div.sk-toggleable__content {max-height: 0;max-width: 0;overflow: hidden;text-align: left;background-color: #f0f8ff;}#sk-f035a08c-d9df-4f52-83f9-521addc19362 div.sk-toggleable__content pre {margin: 0.2em;color: black;border-radius: 0.25em;background-color: #f0f8ff;}#sk-f035a08c-d9df-4f52-83f9-521addc19362 input.sk-toggleable__control:checked~div.sk-toggleable__content {max-height: 200px;max-width: 100%;overflow: auto;}#sk-f035a08c-d9df-4f52-83f9-521addc19362 input.sk-toggleable__control:checked~label.sk-toggleable__label-arrow:before {content: \"▾\";}#sk-f035a08c-d9df-4f52-83f9-521addc19362 div.sk-estimator input.sk-toggleable__control:checked~label.sk-toggleable__label {background-color: #d4ebff;}#sk-f035a08c-d9df-4f52-83f9-521addc19362 div.sk-label input.sk-toggleable__control:checked~label.sk-toggleable__label {background-color: #d4ebff;}#sk-f035a08c-d9df-4f52-83f9-521addc19362 input.sk-hidden--visually {border: 0;clip: rect(1px 1px 1px 1px);clip: rect(1px, 1px, 1px, 1px);height: 1px;margin: -1px;overflow: hidden;padding: 0;position: absolute;width: 1px;}#sk-f035a08c-d9df-4f52-83f9-521addc19362 div.sk-estimator {font-family: monospace;background-color: #f0f8ff;border: 1px dotted black;border-radius: 0.25em;box-sizing: border-box;margin-bottom: 0.5em;}#sk-f035a08c-d9df-4f52-83f9-521addc19362 div.sk-estimator:hover {background-color: #d4ebff;}#sk-f035a08c-d9df-4f52-83f9-521addc19362 div.sk-parallel-item::after {content: \"\";width: 100%;border-bottom: 1px solid gray;flex-grow: 1;}#sk-f035a08c-d9df-4f52-83f9-521addc19362 div.sk-label:hover label.sk-toggleable__label {background-color: #d4ebff;}#sk-f035a08c-d9df-4f52-83f9-521addc19362 div.sk-serial::before {content: \"\";position: absolute;border-left: 1px solid gray;box-sizing: border-box;top: 2em;bottom: 0;left: 50%;}#sk-f035a08c-d9df-4f52-83f9-521addc19362 div.sk-serial {display: flex;flex-direction: column;align-items: center;background-color: white;padding-right: 0.2em;padding-left: 0.2em;}#sk-f035a08c-d9df-4f52-83f9-521addc19362 div.sk-item {z-index: 1;}#sk-f035a08c-d9df-4f52-83f9-521addc19362 div.sk-parallel {display: flex;align-items: stretch;justify-content: center;background-color: white;}#sk-f035a08c-d9df-4f52-83f9-521addc19362 div.sk-parallel::before {content: \"\";position: absolute;border-left: 1px solid gray;box-sizing: border-box;top: 2em;bottom: 0;left: 50%;}#sk-f035a08c-d9df-4f52-83f9-521addc19362 div.sk-parallel-item {display: flex;flex-direction: column;position: relative;background-color: white;}#sk-f035a08c-d9df-4f52-83f9-521addc19362 div.sk-parallel-item:first-child::after {align-self: flex-end;width: 50%;}#sk-f035a08c-d9df-4f52-83f9-521addc19362 div.sk-parallel-item:last-child::after {align-self: flex-start;width: 50%;}#sk-f035a08c-d9df-4f52-83f9-521addc19362 div.sk-parallel-item:only-child::after {width: 0;}#sk-f035a08c-d9df-4f52-83f9-521addc19362 div.sk-dashed-wrapped {border: 1px dashed gray;margin: 0 0.4em 0.5em 0.4em;box-sizing: border-box;padding-bottom: 0.4em;background-color: white;position: relative;}#sk-f035a08c-d9df-4f52-83f9-521addc19362 div.sk-label label {font-family: monospace;font-weight: bold;background-color: white;display: inline-block;line-height: 1.2em;}#sk-f035a08c-d9df-4f52-83f9-521addc19362 div.sk-label-container {position: relative;z-index: 2;text-align: center;}#sk-f035a08c-d9df-4f52-83f9-521addc19362 div.sk-container {/* jupyter's `normalize.less` sets `[hidden] { display: none; }` but bootstrap.min.css set `[hidden] { display: none !important; }` so we also need the `!important` here to be able to override the default hidden behavior on the sphinx rendered scikit-learn.org. See: https://github.com/scikit-learn/scikit-learn/issues/21755 */display: inline-block !important;position: relative;}#sk-f035a08c-d9df-4f52-83f9-521addc19362 div.sk-text-repr-fallback {display: none;}</style><div id=\"sk-f035a08c-d9df-4f52-83f9-521addc19362\" class=\"sk-top-container\"><div class=\"sk-text-repr-fallback\"><pre>Pipeline(steps=[(&#x27;Standard_scaler&#x27;, StandardScaler()),\n",
       "                (&#x27;classifier&#x27;, LogisticRegression())])</pre><b>Please rerun this cell to show the HTML repr or trust the notebook.</b></div><div class=\"sk-container\" hidden><div class=\"sk-item sk-dashed-wrapped\"><div class=\"sk-label-container\"><div class=\"sk-label sk-toggleable\"><input class=\"sk-toggleable__control sk-hidden--visually\" id=\"1022eb03-655a-42d6-8772-7d426ff0d7ae\" type=\"checkbox\" ><label for=\"1022eb03-655a-42d6-8772-7d426ff0d7ae\" class=\"sk-toggleable__label sk-toggleable__label-arrow\">Pipeline</label><div class=\"sk-toggleable__content\"><pre>Pipeline(steps=[(&#x27;Standard_scaler&#x27;, StandardScaler()),\n",
       "                (&#x27;classifier&#x27;, LogisticRegression())])</pre></div></div></div><div class=\"sk-serial\"><div class=\"sk-item\"><div class=\"sk-estimator sk-toggleable\"><input class=\"sk-toggleable__control sk-hidden--visually\" id=\"219b19c7-7728-41b0-8899-82d1a3ede1fb\" type=\"checkbox\" ><label for=\"219b19c7-7728-41b0-8899-82d1a3ede1fb\" class=\"sk-toggleable__label sk-toggleable__label-arrow\">StandardScaler</label><div class=\"sk-toggleable__content\"><pre>StandardScaler()</pre></div></div></div><div class=\"sk-item\"><div class=\"sk-estimator sk-toggleable\"><input class=\"sk-toggleable__control sk-hidden--visually\" id=\"473c5725-dcda-41a3-89c6-873ccf597585\" type=\"checkbox\" ><label for=\"473c5725-dcda-41a3-89c6-873ccf597585\" class=\"sk-toggleable__label sk-toggleable__label-arrow\">LogisticRegression</label><div class=\"sk-toggleable__content\"><pre>LogisticRegression()</pre></div></div></div></div></div></div></div>"
      ],
      "text/plain": [
       "Pipeline(steps=[('Standard_scaler', StandardScaler()),\n",
       "                ('classifier', LogisticRegression())])"
      ]
     },
     "execution_count": 10,
     "metadata": {},
     "output_type": "execute_result"
    }
   ],
   "source": [
    "pipe"
   ]
  },
  {
   "cell_type": "code",
   "execution_count": 11,
   "id": "eccf8416",
   "metadata": {},
   "outputs": [],
   "source": [
    "## Creatting a dataset\n",
    "from sklearn.datasets import make_classification\n",
    "X,y=make_classification(n_samples=1000)"
   ]
  },
  {
   "cell_type": "code",
   "execution_count": 12,
   "id": "53d7515e",
   "metadata": {},
   "outputs": [
    {
     "data": {
      "text/plain": [
       "(1000, 20)"
      ]
     },
     "execution_count": 12,
     "metadata": {},
     "output_type": "execute_result"
    }
   ],
   "source": [
    "X.shape"
   ]
  },
  {
   "cell_type": "code",
   "execution_count": 15,
   "id": "1426ef11",
   "metadata": {},
   "outputs": [],
   "source": [
    "from sklearn.model_selection import train_test_split\n",
    "X_train, X_test, y_train, y_test=train_test_split(X,y, test_size=0.33,random_state=42)\n",
    "\n"
   ]
  },
  {
   "cell_type": "code",
   "execution_count": 16,
   "id": "e556cebc",
   "metadata": {},
   "outputs": [
    {
     "data": {
      "text/plain": [
       "array([[-2.53587526, -0.08450199,  0.5033454 , ...,  1.30364772,\n",
       "         0.74876898, -0.48673266],\n",
       "       [ 0.28154736, -0.29604633, -1.08666915, ...,  1.26466241,\n",
       "        -0.36321092, -1.12782422],\n",
       "       [-0.37015827,  0.43605422,  1.28628037, ...,  1.52997796,\n",
       "        -2.5499583 ,  0.28602676],\n",
       "       ...,\n",
       "       [-1.53252209,  2.16409968, -0.85802454, ..., -0.71804673,\n",
       "         1.18799519, -1.01445087],\n",
       "       [-0.61717553, -1.55868924, -0.57071273, ...,  0.95316015,\n",
       "         1.13253277,  0.72080589],\n",
       "       [-0.23811857, -0.39604814,  1.10919115, ..., -0.01012743,\n",
       "        -0.93679926,  1.12803499]])"
      ]
     },
     "execution_count": 16,
     "metadata": {},
     "output_type": "execute_result"
    }
   ],
   "source": [
    "X_train"
   ]
  },
  {
   "cell_type": "code",
   "execution_count": 17,
   "id": "c7e96f8a",
   "metadata": {},
   "outputs": [
    {
     "data": {
      "text/html": [
       "<style>#sk-a409c050-6891-4a7a-b8da-862da99c8d74 {color: black;background-color: white;}#sk-a409c050-6891-4a7a-b8da-862da99c8d74 pre{padding: 0;}#sk-a409c050-6891-4a7a-b8da-862da99c8d74 div.sk-toggleable {background-color: white;}#sk-a409c050-6891-4a7a-b8da-862da99c8d74 label.sk-toggleable__label {cursor: pointer;display: block;width: 100%;margin-bottom: 0;padding: 0.3em;box-sizing: border-box;text-align: center;}#sk-a409c050-6891-4a7a-b8da-862da99c8d74 label.sk-toggleable__label-arrow:before {content: \"▸\";float: left;margin-right: 0.25em;color: #696969;}#sk-a409c050-6891-4a7a-b8da-862da99c8d74 label.sk-toggleable__label-arrow:hover:before {color: black;}#sk-a409c050-6891-4a7a-b8da-862da99c8d74 div.sk-estimator:hover label.sk-toggleable__label-arrow:before {color: black;}#sk-a409c050-6891-4a7a-b8da-862da99c8d74 div.sk-toggleable__content {max-height: 0;max-width: 0;overflow: hidden;text-align: left;background-color: #f0f8ff;}#sk-a409c050-6891-4a7a-b8da-862da99c8d74 div.sk-toggleable__content pre {margin: 0.2em;color: black;border-radius: 0.25em;background-color: #f0f8ff;}#sk-a409c050-6891-4a7a-b8da-862da99c8d74 input.sk-toggleable__control:checked~div.sk-toggleable__content {max-height: 200px;max-width: 100%;overflow: auto;}#sk-a409c050-6891-4a7a-b8da-862da99c8d74 input.sk-toggleable__control:checked~label.sk-toggleable__label-arrow:before {content: \"▾\";}#sk-a409c050-6891-4a7a-b8da-862da99c8d74 div.sk-estimator input.sk-toggleable__control:checked~label.sk-toggleable__label {background-color: #d4ebff;}#sk-a409c050-6891-4a7a-b8da-862da99c8d74 div.sk-label input.sk-toggleable__control:checked~label.sk-toggleable__label {background-color: #d4ebff;}#sk-a409c050-6891-4a7a-b8da-862da99c8d74 input.sk-hidden--visually {border: 0;clip: rect(1px 1px 1px 1px);clip: rect(1px, 1px, 1px, 1px);height: 1px;margin: -1px;overflow: hidden;padding: 0;position: absolute;width: 1px;}#sk-a409c050-6891-4a7a-b8da-862da99c8d74 div.sk-estimator {font-family: monospace;background-color: #f0f8ff;border: 1px dotted black;border-radius: 0.25em;box-sizing: border-box;margin-bottom: 0.5em;}#sk-a409c050-6891-4a7a-b8da-862da99c8d74 div.sk-estimator:hover {background-color: #d4ebff;}#sk-a409c050-6891-4a7a-b8da-862da99c8d74 div.sk-parallel-item::after {content: \"\";width: 100%;border-bottom: 1px solid gray;flex-grow: 1;}#sk-a409c050-6891-4a7a-b8da-862da99c8d74 div.sk-label:hover label.sk-toggleable__label {background-color: #d4ebff;}#sk-a409c050-6891-4a7a-b8da-862da99c8d74 div.sk-serial::before {content: \"\";position: absolute;border-left: 1px solid gray;box-sizing: border-box;top: 2em;bottom: 0;left: 50%;}#sk-a409c050-6891-4a7a-b8da-862da99c8d74 div.sk-serial {display: flex;flex-direction: column;align-items: center;background-color: white;padding-right: 0.2em;padding-left: 0.2em;}#sk-a409c050-6891-4a7a-b8da-862da99c8d74 div.sk-item {z-index: 1;}#sk-a409c050-6891-4a7a-b8da-862da99c8d74 div.sk-parallel {display: flex;align-items: stretch;justify-content: center;background-color: white;}#sk-a409c050-6891-4a7a-b8da-862da99c8d74 div.sk-parallel::before {content: \"\";position: absolute;border-left: 1px solid gray;box-sizing: border-box;top: 2em;bottom: 0;left: 50%;}#sk-a409c050-6891-4a7a-b8da-862da99c8d74 div.sk-parallel-item {display: flex;flex-direction: column;position: relative;background-color: white;}#sk-a409c050-6891-4a7a-b8da-862da99c8d74 div.sk-parallel-item:first-child::after {align-self: flex-end;width: 50%;}#sk-a409c050-6891-4a7a-b8da-862da99c8d74 div.sk-parallel-item:last-child::after {align-self: flex-start;width: 50%;}#sk-a409c050-6891-4a7a-b8da-862da99c8d74 div.sk-parallel-item:only-child::after {width: 0;}#sk-a409c050-6891-4a7a-b8da-862da99c8d74 div.sk-dashed-wrapped {border: 1px dashed gray;margin: 0 0.4em 0.5em 0.4em;box-sizing: border-box;padding-bottom: 0.4em;background-color: white;position: relative;}#sk-a409c050-6891-4a7a-b8da-862da99c8d74 div.sk-label label {font-family: monospace;font-weight: bold;background-color: white;display: inline-block;line-height: 1.2em;}#sk-a409c050-6891-4a7a-b8da-862da99c8d74 div.sk-label-container {position: relative;z-index: 2;text-align: center;}#sk-a409c050-6891-4a7a-b8da-862da99c8d74 div.sk-container {/* jupyter's `normalize.less` sets `[hidden] { display: none; }` but bootstrap.min.css set `[hidden] { display: none !important; }` so we also need the `!important` here to be able to override the default hidden behavior on the sphinx rendered scikit-learn.org. See: https://github.com/scikit-learn/scikit-learn/issues/21755 */display: inline-block !important;position: relative;}#sk-a409c050-6891-4a7a-b8da-862da99c8d74 div.sk-text-repr-fallback {display: none;}</style><div id=\"sk-a409c050-6891-4a7a-b8da-862da99c8d74\" class=\"sk-top-container\"><div class=\"sk-text-repr-fallback\"><pre>Pipeline(steps=[(&#x27;Standard_scaler&#x27;, StandardScaler()),\n",
       "                (&#x27;classifier&#x27;, LogisticRegression())])</pre><b>Please rerun this cell to show the HTML repr or trust the notebook.</b></div><div class=\"sk-container\" hidden><div class=\"sk-item sk-dashed-wrapped\"><div class=\"sk-label-container\"><div class=\"sk-label sk-toggleable\"><input class=\"sk-toggleable__control sk-hidden--visually\" id=\"98316b04-2342-4eda-8eda-0aa62f65ce8c\" type=\"checkbox\" ><label for=\"98316b04-2342-4eda-8eda-0aa62f65ce8c\" class=\"sk-toggleable__label sk-toggleable__label-arrow\">Pipeline</label><div class=\"sk-toggleable__content\"><pre>Pipeline(steps=[(&#x27;Standard_scaler&#x27;, StandardScaler()),\n",
       "                (&#x27;classifier&#x27;, LogisticRegression())])</pre></div></div></div><div class=\"sk-serial\"><div class=\"sk-item\"><div class=\"sk-estimator sk-toggleable\"><input class=\"sk-toggleable__control sk-hidden--visually\" id=\"6542372f-04d8-4b5c-82e8-ae50f4eadceb\" type=\"checkbox\" ><label for=\"6542372f-04d8-4b5c-82e8-ae50f4eadceb\" class=\"sk-toggleable__label sk-toggleable__label-arrow\">StandardScaler</label><div class=\"sk-toggleable__content\"><pre>StandardScaler()</pre></div></div></div><div class=\"sk-item\"><div class=\"sk-estimator sk-toggleable\"><input class=\"sk-toggleable__control sk-hidden--visually\" id=\"941843fd-a7a6-4731-b34e-559f50a0ea63\" type=\"checkbox\" ><label for=\"941843fd-a7a6-4731-b34e-559f50a0ea63\" class=\"sk-toggleable__label sk-toggleable__label-arrow\">LogisticRegression</label><div class=\"sk-toggleable__content\"><pre>LogisticRegression()</pre></div></div></div></div></div></div></div>"
      ],
      "text/plain": [
       "Pipeline(steps=[('Standard_scaler', StandardScaler()),\n",
       "                ('classifier', LogisticRegression())])"
      ]
     },
     "execution_count": 17,
     "metadata": {},
     "output_type": "execute_result"
    }
   ],
   "source": [
    "pipe.fit(X_train,y_train)"
   ]
  },
  {
   "cell_type": "code",
   "execution_count": 19,
   "id": "6367e6ac",
   "metadata": {},
   "outputs": [],
   "source": [
    "y_pred=pipe.predict(X_test)"
   ]
  },
  {
   "cell_type": "code",
   "execution_count": 20,
   "id": "7e6bd38c",
   "metadata": {},
   "outputs": [
    {
     "data": {
      "text/plain": [
       "array([0, 0, 0, 0, 1, 0, 1, 1, 0, 1, 0, 0, 0, 1, 1, 0, 0, 0, 1, 0, 0, 1,\n",
       "       0, 1, 1, 0, 1, 1, 0, 0, 1, 0, 1, 0, 1, 0, 0, 0, 0, 0, 0, 0, 0, 0,\n",
       "       0, 0, 0, 1, 1, 0, 1, 1, 0, 1, 0, 0, 0, 1, 0, 0, 1, 0, 1, 0, 1, 1,\n",
       "       0, 1, 0, 0, 0, 1, 1, 1, 0, 0, 0, 1, 1, 1, 0, 1, 1, 0, 1, 0, 1, 0,\n",
       "       1, 1, 1, 1, 0, 1, 0, 0, 1, 1, 1, 0, 0, 1, 0, 1, 0, 1, 1, 1, 1, 0,\n",
       "       0, 1, 1, 0, 0, 0, 1, 0, 1, 1, 1, 1, 0, 0, 0, 1, 0, 0, 0, 0, 1, 0,\n",
       "       0, 0, 1, 0, 1, 1, 0, 0, 1, 1, 0, 1, 0, 1, 0, 0, 1, 0, 1, 1, 1, 0,\n",
       "       1, 1, 0, 1, 0, 0, 1, 0, 1, 1, 1, 0, 0, 1, 0, 0, 0, 0, 0, 0, 1, 1,\n",
       "       0, 1, 1, 0, 0, 1, 0, 0, 1, 1, 0, 0, 1, 0, 1, 0, 0, 0, 0, 0, 0, 1,\n",
       "       1, 1, 0, 0, 1, 1, 0, 0, 0, 0, 1, 0, 1, 1, 1, 0, 1, 0, 1, 1, 0, 1,\n",
       "       0, 0, 0, 1, 1, 0, 0, 0, 1, 0, 0, 1, 1, 1, 0, 0, 0, 0, 1, 1, 1, 1,\n",
       "       0, 0, 0, 1, 1, 1, 1, 0, 0, 1, 1, 0, 1, 0, 0, 0, 0, 1, 1, 0, 1, 1,\n",
       "       0, 1, 1, 0, 1, 0, 0, 1, 1, 0, 0, 1, 1, 1, 1, 0, 1, 1, 0, 0, 1, 1,\n",
       "       1, 0, 1, 0, 1, 1, 1, 1, 0, 0, 1, 0, 1, 1, 0, 1, 0, 0, 1, 1, 1, 0,\n",
       "       0, 0, 0, 0, 0, 0, 0, 0, 1, 0, 0, 1, 0, 0, 0, 0, 1, 1, 1, 1, 1, 1])"
      ]
     },
     "execution_count": 20,
     "metadata": {},
     "output_type": "execute_result"
    }
   ],
   "source": [
    "y_pred"
   ]
  },
  {
   "cell_type": "markdown",
   "id": "f71797a6",
   "metadata": {},
   "source": [
    "## Example-2\n",
    "dispalying a pipeline with standard scaler, dimentionality reduction and the estimator "
   ]
  },
  {
   "cell_type": "code",
   "execution_count": 22,
   "id": "3dac315f",
   "metadata": {},
   "outputs": [],
   "source": [
    "from sklearn.decomposition import PCA\n",
    "from sklearn.svm import SVC"
   ]
  },
  {
   "cell_type": "code",
   "execution_count": 24,
   "id": "6c8c5c5e",
   "metadata": {},
   "outputs": [],
   "source": [
    "steps=[(\"scaling\",StandardScaler()),\n",
    "      (\"PCA\",PCA(n_components=3)),\n",
    "      (\"SVC\",SVC())]"
   ]
  },
  {
   "cell_type": "code",
   "execution_count": 26,
   "id": "095d2e62",
   "metadata": {},
   "outputs": [],
   "source": [
    "pipe2=Pipeline(steps)"
   ]
  },
  {
   "cell_type": "code",
   "execution_count": 27,
   "id": "b974024b",
   "metadata": {},
   "outputs": [
    {
     "data": {
      "text/html": [
       "<style>#sk-e903ec69-775a-451a-9be4-5019ee77b3db {color: black;background-color: white;}#sk-e903ec69-775a-451a-9be4-5019ee77b3db pre{padding: 0;}#sk-e903ec69-775a-451a-9be4-5019ee77b3db div.sk-toggleable {background-color: white;}#sk-e903ec69-775a-451a-9be4-5019ee77b3db label.sk-toggleable__label {cursor: pointer;display: block;width: 100%;margin-bottom: 0;padding: 0.3em;box-sizing: border-box;text-align: center;}#sk-e903ec69-775a-451a-9be4-5019ee77b3db label.sk-toggleable__label-arrow:before {content: \"▸\";float: left;margin-right: 0.25em;color: #696969;}#sk-e903ec69-775a-451a-9be4-5019ee77b3db label.sk-toggleable__label-arrow:hover:before {color: black;}#sk-e903ec69-775a-451a-9be4-5019ee77b3db div.sk-estimator:hover label.sk-toggleable__label-arrow:before {color: black;}#sk-e903ec69-775a-451a-9be4-5019ee77b3db div.sk-toggleable__content {max-height: 0;max-width: 0;overflow: hidden;text-align: left;background-color: #f0f8ff;}#sk-e903ec69-775a-451a-9be4-5019ee77b3db div.sk-toggleable__content pre {margin: 0.2em;color: black;border-radius: 0.25em;background-color: #f0f8ff;}#sk-e903ec69-775a-451a-9be4-5019ee77b3db input.sk-toggleable__control:checked~div.sk-toggleable__content {max-height: 200px;max-width: 100%;overflow: auto;}#sk-e903ec69-775a-451a-9be4-5019ee77b3db input.sk-toggleable__control:checked~label.sk-toggleable__label-arrow:before {content: \"▾\";}#sk-e903ec69-775a-451a-9be4-5019ee77b3db div.sk-estimator input.sk-toggleable__control:checked~label.sk-toggleable__label {background-color: #d4ebff;}#sk-e903ec69-775a-451a-9be4-5019ee77b3db div.sk-label input.sk-toggleable__control:checked~label.sk-toggleable__label {background-color: #d4ebff;}#sk-e903ec69-775a-451a-9be4-5019ee77b3db input.sk-hidden--visually {border: 0;clip: rect(1px 1px 1px 1px);clip: rect(1px, 1px, 1px, 1px);height: 1px;margin: -1px;overflow: hidden;padding: 0;position: absolute;width: 1px;}#sk-e903ec69-775a-451a-9be4-5019ee77b3db div.sk-estimator {font-family: monospace;background-color: #f0f8ff;border: 1px dotted black;border-radius: 0.25em;box-sizing: border-box;margin-bottom: 0.5em;}#sk-e903ec69-775a-451a-9be4-5019ee77b3db div.sk-estimator:hover {background-color: #d4ebff;}#sk-e903ec69-775a-451a-9be4-5019ee77b3db div.sk-parallel-item::after {content: \"\";width: 100%;border-bottom: 1px solid gray;flex-grow: 1;}#sk-e903ec69-775a-451a-9be4-5019ee77b3db div.sk-label:hover label.sk-toggleable__label {background-color: #d4ebff;}#sk-e903ec69-775a-451a-9be4-5019ee77b3db div.sk-serial::before {content: \"\";position: absolute;border-left: 1px solid gray;box-sizing: border-box;top: 2em;bottom: 0;left: 50%;}#sk-e903ec69-775a-451a-9be4-5019ee77b3db div.sk-serial {display: flex;flex-direction: column;align-items: center;background-color: white;padding-right: 0.2em;padding-left: 0.2em;}#sk-e903ec69-775a-451a-9be4-5019ee77b3db div.sk-item {z-index: 1;}#sk-e903ec69-775a-451a-9be4-5019ee77b3db div.sk-parallel {display: flex;align-items: stretch;justify-content: center;background-color: white;}#sk-e903ec69-775a-451a-9be4-5019ee77b3db div.sk-parallel::before {content: \"\";position: absolute;border-left: 1px solid gray;box-sizing: border-box;top: 2em;bottom: 0;left: 50%;}#sk-e903ec69-775a-451a-9be4-5019ee77b3db div.sk-parallel-item {display: flex;flex-direction: column;position: relative;background-color: white;}#sk-e903ec69-775a-451a-9be4-5019ee77b3db div.sk-parallel-item:first-child::after {align-self: flex-end;width: 50%;}#sk-e903ec69-775a-451a-9be4-5019ee77b3db div.sk-parallel-item:last-child::after {align-self: flex-start;width: 50%;}#sk-e903ec69-775a-451a-9be4-5019ee77b3db div.sk-parallel-item:only-child::after {width: 0;}#sk-e903ec69-775a-451a-9be4-5019ee77b3db div.sk-dashed-wrapped {border: 1px dashed gray;margin: 0 0.4em 0.5em 0.4em;box-sizing: border-box;padding-bottom: 0.4em;background-color: white;position: relative;}#sk-e903ec69-775a-451a-9be4-5019ee77b3db div.sk-label label {font-family: monospace;font-weight: bold;background-color: white;display: inline-block;line-height: 1.2em;}#sk-e903ec69-775a-451a-9be4-5019ee77b3db div.sk-label-container {position: relative;z-index: 2;text-align: center;}#sk-e903ec69-775a-451a-9be4-5019ee77b3db div.sk-container {/* jupyter's `normalize.less` sets `[hidden] { display: none; }` but bootstrap.min.css set `[hidden] { display: none !important; }` so we also need the `!important` here to be able to override the default hidden behavior on the sphinx rendered scikit-learn.org. See: https://github.com/scikit-learn/scikit-learn/issues/21755 */display: inline-block !important;position: relative;}#sk-e903ec69-775a-451a-9be4-5019ee77b3db div.sk-text-repr-fallback {display: none;}</style><div id=\"sk-e903ec69-775a-451a-9be4-5019ee77b3db\" class=\"sk-top-container\"><div class=\"sk-text-repr-fallback\"><pre>Pipeline(steps=[(&#x27;scaling&#x27;, StandardScaler()), (&#x27;PCA&#x27;, PCA(n_components=3)),\n",
       "                (&#x27;SVC&#x27;, SVC())])</pre><b>Please rerun this cell to show the HTML repr or trust the notebook.</b></div><div class=\"sk-container\" hidden><div class=\"sk-item sk-dashed-wrapped\"><div class=\"sk-label-container\"><div class=\"sk-label sk-toggleable\"><input class=\"sk-toggleable__control sk-hidden--visually\" id=\"a7a951c0-1ae9-486d-9a0e-cb2f577fae4c\" type=\"checkbox\" ><label for=\"a7a951c0-1ae9-486d-9a0e-cb2f577fae4c\" class=\"sk-toggleable__label sk-toggleable__label-arrow\">Pipeline</label><div class=\"sk-toggleable__content\"><pre>Pipeline(steps=[(&#x27;scaling&#x27;, StandardScaler()), (&#x27;PCA&#x27;, PCA(n_components=3)),\n",
       "                (&#x27;SVC&#x27;, SVC())])</pre></div></div></div><div class=\"sk-serial\"><div class=\"sk-item\"><div class=\"sk-estimator sk-toggleable\"><input class=\"sk-toggleable__control sk-hidden--visually\" id=\"25513329-7b64-45e1-a628-5c686309d00b\" type=\"checkbox\" ><label for=\"25513329-7b64-45e1-a628-5c686309d00b\" class=\"sk-toggleable__label sk-toggleable__label-arrow\">StandardScaler</label><div class=\"sk-toggleable__content\"><pre>StandardScaler()</pre></div></div></div><div class=\"sk-item\"><div class=\"sk-estimator sk-toggleable\"><input class=\"sk-toggleable__control sk-hidden--visually\" id=\"57b257ca-c644-484a-8021-6262e2b1c046\" type=\"checkbox\" ><label for=\"57b257ca-c644-484a-8021-6262e2b1c046\" class=\"sk-toggleable__label sk-toggleable__label-arrow\">PCA</label><div class=\"sk-toggleable__content\"><pre>PCA(n_components=3)</pre></div></div></div><div class=\"sk-item\"><div class=\"sk-estimator sk-toggleable\"><input class=\"sk-toggleable__control sk-hidden--visually\" id=\"a1b23d79-850b-4981-8f77-193fae01d56f\" type=\"checkbox\" ><label for=\"a1b23d79-850b-4981-8f77-193fae01d56f\" class=\"sk-toggleable__label sk-toggleable__label-arrow\">SVC</label><div class=\"sk-toggleable__content\"><pre>SVC()</pre></div></div></div></div></div></div></div>"
      ],
      "text/plain": [
       "Pipeline(steps=[('scaling', StandardScaler()), ('PCA', PCA(n_components=3)),\n",
       "                ('SVC', SVC())])"
      ]
     },
     "execution_count": 27,
     "metadata": {},
     "output_type": "execute_result"
    }
   ],
   "source": [
    "pipe2"
   ]
  },
  {
   "cell_type": "code",
   "execution_count": 29,
   "id": "0a8058cb",
   "metadata": {},
   "outputs": [
    {
     "data": {
      "text/plain": [
       "array([[-2.50803584, -0.09594152,  0.53884195, ...,  1.29550316,\n",
       "         0.62115996, -0.40018702],\n",
       "       [ 0.31676844, -0.30811323, -1.09947013, ...,  1.25736049,\n",
       "        -0.29975426, -1.03247175],\n",
       "       [-0.33664466,  0.42615844,  1.345559  , ...,  1.51694141,\n",
       "        -2.11076429,  0.36195683],\n",
       "       ...,\n",
       "       [-1.50205388,  2.15932858, -0.86388031, ..., -0.68249357,\n",
       "         0.98491623, -0.92065584],\n",
       "       [-0.5843091 , -1.57450063, -0.56784126, ...,  0.95259117,\n",
       "         0.93898363,  0.79076329],\n",
       "       [-0.20425902, -0.4084116 ,  1.1630906 , ...,  0.01012448,\n",
       "        -0.77478591,  1.1923982 ]])"
      ]
     },
     "execution_count": 29,
     "metadata": {},
     "output_type": "execute_result"
    }
   ],
   "source": [
    "pipe2['scaling'].fit_transform(X_train)"
   ]
  },
  {
   "cell_type": "code",
   "execution_count": 30,
   "id": "d035db02",
   "metadata": {},
   "outputs": [
    {
     "data": {
      "text/html": [
       "<style>#sk-0b6cdb40-471b-42d9-a455-594d58ef9cf7 {color: black;background-color: white;}#sk-0b6cdb40-471b-42d9-a455-594d58ef9cf7 pre{padding: 0;}#sk-0b6cdb40-471b-42d9-a455-594d58ef9cf7 div.sk-toggleable {background-color: white;}#sk-0b6cdb40-471b-42d9-a455-594d58ef9cf7 label.sk-toggleable__label {cursor: pointer;display: block;width: 100%;margin-bottom: 0;padding: 0.3em;box-sizing: border-box;text-align: center;}#sk-0b6cdb40-471b-42d9-a455-594d58ef9cf7 label.sk-toggleable__label-arrow:before {content: \"▸\";float: left;margin-right: 0.25em;color: #696969;}#sk-0b6cdb40-471b-42d9-a455-594d58ef9cf7 label.sk-toggleable__label-arrow:hover:before {color: black;}#sk-0b6cdb40-471b-42d9-a455-594d58ef9cf7 div.sk-estimator:hover label.sk-toggleable__label-arrow:before {color: black;}#sk-0b6cdb40-471b-42d9-a455-594d58ef9cf7 div.sk-toggleable__content {max-height: 0;max-width: 0;overflow: hidden;text-align: left;background-color: #f0f8ff;}#sk-0b6cdb40-471b-42d9-a455-594d58ef9cf7 div.sk-toggleable__content pre {margin: 0.2em;color: black;border-radius: 0.25em;background-color: #f0f8ff;}#sk-0b6cdb40-471b-42d9-a455-594d58ef9cf7 input.sk-toggleable__control:checked~div.sk-toggleable__content {max-height: 200px;max-width: 100%;overflow: auto;}#sk-0b6cdb40-471b-42d9-a455-594d58ef9cf7 input.sk-toggleable__control:checked~label.sk-toggleable__label-arrow:before {content: \"▾\";}#sk-0b6cdb40-471b-42d9-a455-594d58ef9cf7 div.sk-estimator input.sk-toggleable__control:checked~label.sk-toggleable__label {background-color: #d4ebff;}#sk-0b6cdb40-471b-42d9-a455-594d58ef9cf7 div.sk-label input.sk-toggleable__control:checked~label.sk-toggleable__label {background-color: #d4ebff;}#sk-0b6cdb40-471b-42d9-a455-594d58ef9cf7 input.sk-hidden--visually {border: 0;clip: rect(1px 1px 1px 1px);clip: rect(1px, 1px, 1px, 1px);height: 1px;margin: -1px;overflow: hidden;padding: 0;position: absolute;width: 1px;}#sk-0b6cdb40-471b-42d9-a455-594d58ef9cf7 div.sk-estimator {font-family: monospace;background-color: #f0f8ff;border: 1px dotted black;border-radius: 0.25em;box-sizing: border-box;margin-bottom: 0.5em;}#sk-0b6cdb40-471b-42d9-a455-594d58ef9cf7 div.sk-estimator:hover {background-color: #d4ebff;}#sk-0b6cdb40-471b-42d9-a455-594d58ef9cf7 div.sk-parallel-item::after {content: \"\";width: 100%;border-bottom: 1px solid gray;flex-grow: 1;}#sk-0b6cdb40-471b-42d9-a455-594d58ef9cf7 div.sk-label:hover label.sk-toggleable__label {background-color: #d4ebff;}#sk-0b6cdb40-471b-42d9-a455-594d58ef9cf7 div.sk-serial::before {content: \"\";position: absolute;border-left: 1px solid gray;box-sizing: border-box;top: 2em;bottom: 0;left: 50%;}#sk-0b6cdb40-471b-42d9-a455-594d58ef9cf7 div.sk-serial {display: flex;flex-direction: column;align-items: center;background-color: white;padding-right: 0.2em;padding-left: 0.2em;}#sk-0b6cdb40-471b-42d9-a455-594d58ef9cf7 div.sk-item {z-index: 1;}#sk-0b6cdb40-471b-42d9-a455-594d58ef9cf7 div.sk-parallel {display: flex;align-items: stretch;justify-content: center;background-color: white;}#sk-0b6cdb40-471b-42d9-a455-594d58ef9cf7 div.sk-parallel::before {content: \"\";position: absolute;border-left: 1px solid gray;box-sizing: border-box;top: 2em;bottom: 0;left: 50%;}#sk-0b6cdb40-471b-42d9-a455-594d58ef9cf7 div.sk-parallel-item {display: flex;flex-direction: column;position: relative;background-color: white;}#sk-0b6cdb40-471b-42d9-a455-594d58ef9cf7 div.sk-parallel-item:first-child::after {align-self: flex-end;width: 50%;}#sk-0b6cdb40-471b-42d9-a455-594d58ef9cf7 div.sk-parallel-item:last-child::after {align-self: flex-start;width: 50%;}#sk-0b6cdb40-471b-42d9-a455-594d58ef9cf7 div.sk-parallel-item:only-child::after {width: 0;}#sk-0b6cdb40-471b-42d9-a455-594d58ef9cf7 div.sk-dashed-wrapped {border: 1px dashed gray;margin: 0 0.4em 0.5em 0.4em;box-sizing: border-box;padding-bottom: 0.4em;background-color: white;position: relative;}#sk-0b6cdb40-471b-42d9-a455-594d58ef9cf7 div.sk-label label {font-family: monospace;font-weight: bold;background-color: white;display: inline-block;line-height: 1.2em;}#sk-0b6cdb40-471b-42d9-a455-594d58ef9cf7 div.sk-label-container {position: relative;z-index: 2;text-align: center;}#sk-0b6cdb40-471b-42d9-a455-594d58ef9cf7 div.sk-container {/* jupyter's `normalize.less` sets `[hidden] { display: none; }` but bootstrap.min.css set `[hidden] { display: none !important; }` so we also need the `!important` here to be able to override the default hidden behavior on the sphinx rendered scikit-learn.org. See: https://github.com/scikit-learn/scikit-learn/issues/21755 */display: inline-block !important;position: relative;}#sk-0b6cdb40-471b-42d9-a455-594d58ef9cf7 div.sk-text-repr-fallback {display: none;}</style><div id=\"sk-0b6cdb40-471b-42d9-a455-594d58ef9cf7\" class=\"sk-top-container\"><div class=\"sk-text-repr-fallback\"><pre>Pipeline(steps=[(&#x27;scaling&#x27;, StandardScaler()), (&#x27;PCA&#x27;, PCA(n_components=3)),\n",
       "                (&#x27;SVC&#x27;, SVC())])</pre><b>Please rerun this cell to show the HTML repr or trust the notebook.</b></div><div class=\"sk-container\" hidden><div class=\"sk-item sk-dashed-wrapped\"><div class=\"sk-label-container\"><div class=\"sk-label sk-toggleable\"><input class=\"sk-toggleable__control sk-hidden--visually\" id=\"c3a44c0b-7989-4048-8528-df371679e019\" type=\"checkbox\" ><label for=\"c3a44c0b-7989-4048-8528-df371679e019\" class=\"sk-toggleable__label sk-toggleable__label-arrow\">Pipeline</label><div class=\"sk-toggleable__content\"><pre>Pipeline(steps=[(&#x27;scaling&#x27;, StandardScaler()), (&#x27;PCA&#x27;, PCA(n_components=3)),\n",
       "                (&#x27;SVC&#x27;, SVC())])</pre></div></div></div><div class=\"sk-serial\"><div class=\"sk-item\"><div class=\"sk-estimator sk-toggleable\"><input class=\"sk-toggleable__control sk-hidden--visually\" id=\"c8e4e906-636e-4d02-8318-8389f147a66a\" type=\"checkbox\" ><label for=\"c8e4e906-636e-4d02-8318-8389f147a66a\" class=\"sk-toggleable__label sk-toggleable__label-arrow\">StandardScaler</label><div class=\"sk-toggleable__content\"><pre>StandardScaler()</pre></div></div></div><div class=\"sk-item\"><div class=\"sk-estimator sk-toggleable\"><input class=\"sk-toggleable__control sk-hidden--visually\" id=\"e00526ce-689d-49e1-82d9-96a0ced83568\" type=\"checkbox\" ><label for=\"e00526ce-689d-49e1-82d9-96a0ced83568\" class=\"sk-toggleable__label sk-toggleable__label-arrow\">PCA</label><div class=\"sk-toggleable__content\"><pre>PCA(n_components=3)</pre></div></div></div><div class=\"sk-item\"><div class=\"sk-estimator sk-toggleable\"><input class=\"sk-toggleable__control sk-hidden--visually\" id=\"c0e33ee5-7fc8-48f4-ad32-99839c45b566\" type=\"checkbox\" ><label for=\"c0e33ee5-7fc8-48f4-ad32-99839c45b566\" class=\"sk-toggleable__label sk-toggleable__label-arrow\">SVC</label><div class=\"sk-toggleable__content\"><pre>SVC()</pre></div></div></div></div></div></div></div>"
      ],
      "text/plain": [
       "Pipeline(steps=[('scaling', StandardScaler()), ('PCA', PCA(n_components=3)),\n",
       "                ('SVC', SVC())])"
      ]
     },
     "execution_count": 30,
     "metadata": {},
     "output_type": "execute_result"
    }
   ],
   "source": [
    "pipe2.fit(X_train,y_train)"
   ]
  },
  {
   "cell_type": "code",
   "execution_count": 31,
   "id": "fd570efe",
   "metadata": {},
   "outputs": [
    {
     "data": {
      "text/plain": [
       "array([1, 0, 0, 0, 1, 0, 1, 1, 1, 1, 0, 0, 1, 0, 1, 0, 0, 0, 1, 0, 0, 1,\n",
       "       0, 1, 1, 0, 1, 1, 0, 0, 1, 1, 0, 0, 1, 0, 0, 1, 0, 0, 0, 1, 0, 0,\n",
       "       0, 1, 0, 0, 1, 0, 1, 1, 1, 1, 1, 1, 1, 1, 0, 0, 1, 1, 1, 0, 1, 1,\n",
       "       0, 1, 1, 0, 0, 1, 1, 1, 1, 1, 0, 1, 1, 1, 0, 1, 1, 0, 1, 1, 1, 0,\n",
       "       1, 1, 1, 1, 0, 1, 0, 0, 1, 1, 1, 0, 0, 1, 0, 1, 1, 0, 1, 1, 1, 1,\n",
       "       0, 0, 1, 1, 1, 1, 1, 1, 1, 1, 1, 1, 0, 0, 0, 0, 0, 0, 0, 0, 1, 0,\n",
       "       0, 0, 0, 0, 1, 1, 1, 1, 1, 1, 1, 0, 1, 1, 0, 0, 1, 0, 1, 1, 1, 0,\n",
       "       1, 1, 1, 0, 0, 0, 1, 0, 1, 0, 1, 0, 1, 1, 1, 1, 1, 0, 1, 1, 1, 1,\n",
       "       0, 1, 1, 0, 0, 1, 0, 0, 1, 1, 1, 0, 1, 0, 0, 0, 0, 1, 1, 1, 1, 1,\n",
       "       1, 1, 1, 1, 1, 1, 0, 1, 0, 0, 1, 1, 1, 1, 1, 0, 1, 0, 1, 1, 1, 1,\n",
       "       1, 0, 1, 1, 1, 1, 1, 1, 0, 0, 0, 0, 1, 1, 1, 0, 1, 1, 1, 1, 1, 1,\n",
       "       1, 0, 1, 1, 1, 0, 1, 0, 0, 1, 1, 1, 1, 1, 0, 0, 1, 1, 1, 0, 1, 1,\n",
       "       0, 1, 0, 1, 1, 1, 0, 1, 1, 0, 1, 1, 1, 1, 1, 1, 0, 0, 1, 1, 1, 1,\n",
       "       1, 0, 1, 1, 1, 1, 0, 1, 1, 0, 1, 0, 1, 1, 0, 1, 1, 0, 1, 0, 1, 1,\n",
       "       1, 0, 0, 0, 0, 1, 1, 0, 1, 1, 0, 0, 0, 1, 0, 0, 1, 1, 1, 0, 0, 0])"
      ]
     },
     "execution_count": 31,
     "metadata": {},
     "output_type": "execute_result"
    }
   ],
   "source": [
    "pipe2.predict(X_test)"
   ]
  },
  {
   "cell_type": "markdown",
   "id": "9a5c35b1",
   "metadata": {},
   "source": [
    "## Complex examples of columns transformer"
   ]
  },
  {
   "cell_type": "code",
   "execution_count": 33,
   "id": "01f11fdb",
   "metadata": {},
   "outputs": [],
   "source": [
    "from sklearn.impute import SimpleImputer "
   ]
  },
  {
   "cell_type": "code",
   "execution_count": 35,
   "id": "1f72a7b0",
   "metadata": {},
   "outputs": [],
   "source": [
    "## numerical processing pipeline\n",
    "import numpy as np\n",
    "numeric_processor=Pipeline(\n",
    "    steps=[(\"imputation_mean\",SimpleImputer(missing_values=np.nan,strategy=\"mean\")),\n",
    "          (\"scaler\",StandardScaler())]\n",
    "\n",
    ")\n"
   ]
  },
  {
   "cell_type": "code",
   "execution_count": 36,
   "id": "872e47c7",
   "metadata": {},
   "outputs": [
    {
     "data": {
      "text/html": [
       "<style>#sk-b90467c3-9995-48da-a168-7b6a1b4fe29b {color: black;background-color: white;}#sk-b90467c3-9995-48da-a168-7b6a1b4fe29b pre{padding: 0;}#sk-b90467c3-9995-48da-a168-7b6a1b4fe29b div.sk-toggleable {background-color: white;}#sk-b90467c3-9995-48da-a168-7b6a1b4fe29b label.sk-toggleable__label {cursor: pointer;display: block;width: 100%;margin-bottom: 0;padding: 0.3em;box-sizing: border-box;text-align: center;}#sk-b90467c3-9995-48da-a168-7b6a1b4fe29b label.sk-toggleable__label-arrow:before {content: \"▸\";float: left;margin-right: 0.25em;color: #696969;}#sk-b90467c3-9995-48da-a168-7b6a1b4fe29b label.sk-toggleable__label-arrow:hover:before {color: black;}#sk-b90467c3-9995-48da-a168-7b6a1b4fe29b div.sk-estimator:hover label.sk-toggleable__label-arrow:before {color: black;}#sk-b90467c3-9995-48da-a168-7b6a1b4fe29b div.sk-toggleable__content {max-height: 0;max-width: 0;overflow: hidden;text-align: left;background-color: #f0f8ff;}#sk-b90467c3-9995-48da-a168-7b6a1b4fe29b div.sk-toggleable__content pre {margin: 0.2em;color: black;border-radius: 0.25em;background-color: #f0f8ff;}#sk-b90467c3-9995-48da-a168-7b6a1b4fe29b input.sk-toggleable__control:checked~div.sk-toggleable__content {max-height: 200px;max-width: 100%;overflow: auto;}#sk-b90467c3-9995-48da-a168-7b6a1b4fe29b input.sk-toggleable__control:checked~label.sk-toggleable__label-arrow:before {content: \"▾\";}#sk-b90467c3-9995-48da-a168-7b6a1b4fe29b div.sk-estimator input.sk-toggleable__control:checked~label.sk-toggleable__label {background-color: #d4ebff;}#sk-b90467c3-9995-48da-a168-7b6a1b4fe29b div.sk-label input.sk-toggleable__control:checked~label.sk-toggleable__label {background-color: #d4ebff;}#sk-b90467c3-9995-48da-a168-7b6a1b4fe29b input.sk-hidden--visually {border: 0;clip: rect(1px 1px 1px 1px);clip: rect(1px, 1px, 1px, 1px);height: 1px;margin: -1px;overflow: hidden;padding: 0;position: absolute;width: 1px;}#sk-b90467c3-9995-48da-a168-7b6a1b4fe29b div.sk-estimator {font-family: monospace;background-color: #f0f8ff;border: 1px dotted black;border-radius: 0.25em;box-sizing: border-box;margin-bottom: 0.5em;}#sk-b90467c3-9995-48da-a168-7b6a1b4fe29b div.sk-estimator:hover {background-color: #d4ebff;}#sk-b90467c3-9995-48da-a168-7b6a1b4fe29b div.sk-parallel-item::after {content: \"\";width: 100%;border-bottom: 1px solid gray;flex-grow: 1;}#sk-b90467c3-9995-48da-a168-7b6a1b4fe29b div.sk-label:hover label.sk-toggleable__label {background-color: #d4ebff;}#sk-b90467c3-9995-48da-a168-7b6a1b4fe29b div.sk-serial::before {content: \"\";position: absolute;border-left: 1px solid gray;box-sizing: border-box;top: 2em;bottom: 0;left: 50%;}#sk-b90467c3-9995-48da-a168-7b6a1b4fe29b div.sk-serial {display: flex;flex-direction: column;align-items: center;background-color: white;padding-right: 0.2em;padding-left: 0.2em;}#sk-b90467c3-9995-48da-a168-7b6a1b4fe29b div.sk-item {z-index: 1;}#sk-b90467c3-9995-48da-a168-7b6a1b4fe29b div.sk-parallel {display: flex;align-items: stretch;justify-content: center;background-color: white;}#sk-b90467c3-9995-48da-a168-7b6a1b4fe29b div.sk-parallel::before {content: \"\";position: absolute;border-left: 1px solid gray;box-sizing: border-box;top: 2em;bottom: 0;left: 50%;}#sk-b90467c3-9995-48da-a168-7b6a1b4fe29b div.sk-parallel-item {display: flex;flex-direction: column;position: relative;background-color: white;}#sk-b90467c3-9995-48da-a168-7b6a1b4fe29b div.sk-parallel-item:first-child::after {align-self: flex-end;width: 50%;}#sk-b90467c3-9995-48da-a168-7b6a1b4fe29b div.sk-parallel-item:last-child::after {align-self: flex-start;width: 50%;}#sk-b90467c3-9995-48da-a168-7b6a1b4fe29b div.sk-parallel-item:only-child::after {width: 0;}#sk-b90467c3-9995-48da-a168-7b6a1b4fe29b div.sk-dashed-wrapped {border: 1px dashed gray;margin: 0 0.4em 0.5em 0.4em;box-sizing: border-box;padding-bottom: 0.4em;background-color: white;position: relative;}#sk-b90467c3-9995-48da-a168-7b6a1b4fe29b div.sk-label label {font-family: monospace;font-weight: bold;background-color: white;display: inline-block;line-height: 1.2em;}#sk-b90467c3-9995-48da-a168-7b6a1b4fe29b div.sk-label-container {position: relative;z-index: 2;text-align: center;}#sk-b90467c3-9995-48da-a168-7b6a1b4fe29b div.sk-container {/* jupyter's `normalize.less` sets `[hidden] { display: none; }` but bootstrap.min.css set `[hidden] { display: none !important; }` so we also need the `!important` here to be able to override the default hidden behavior on the sphinx rendered scikit-learn.org. See: https://github.com/scikit-learn/scikit-learn/issues/21755 */display: inline-block !important;position: relative;}#sk-b90467c3-9995-48da-a168-7b6a1b4fe29b div.sk-text-repr-fallback {display: none;}</style><div id=\"sk-b90467c3-9995-48da-a168-7b6a1b4fe29b\" class=\"sk-top-container\"><div class=\"sk-text-repr-fallback\"><pre>Pipeline(steps=[(&#x27;imputation_mean&#x27;, SimpleImputer()),\n",
       "                (&#x27;scaler&#x27;, StandardScaler())])</pre><b>Please rerun this cell to show the HTML repr or trust the notebook.</b></div><div class=\"sk-container\" hidden><div class=\"sk-item sk-dashed-wrapped\"><div class=\"sk-label-container\"><div class=\"sk-label sk-toggleable\"><input class=\"sk-toggleable__control sk-hidden--visually\" id=\"fefa58cb-b740-4c7f-b691-95b9e261380c\" type=\"checkbox\" ><label for=\"fefa58cb-b740-4c7f-b691-95b9e261380c\" class=\"sk-toggleable__label sk-toggleable__label-arrow\">Pipeline</label><div class=\"sk-toggleable__content\"><pre>Pipeline(steps=[(&#x27;imputation_mean&#x27;, SimpleImputer()),\n",
       "                (&#x27;scaler&#x27;, StandardScaler())])</pre></div></div></div><div class=\"sk-serial\"><div class=\"sk-item\"><div class=\"sk-estimator sk-toggleable\"><input class=\"sk-toggleable__control sk-hidden--visually\" id=\"8c7ac038-f2e2-4ee2-824a-1cf194f57b66\" type=\"checkbox\" ><label for=\"8c7ac038-f2e2-4ee2-824a-1cf194f57b66\" class=\"sk-toggleable__label sk-toggleable__label-arrow\">SimpleImputer</label><div class=\"sk-toggleable__content\"><pre>SimpleImputer()</pre></div></div></div><div class=\"sk-item\"><div class=\"sk-estimator sk-toggleable\"><input class=\"sk-toggleable__control sk-hidden--visually\" id=\"c2524149-d6b1-4c42-81da-9d4ccdc0f1e8\" type=\"checkbox\" ><label for=\"c2524149-d6b1-4c42-81da-9d4ccdc0f1e8\" class=\"sk-toggleable__label sk-toggleable__label-arrow\">StandardScaler</label><div class=\"sk-toggleable__content\"><pre>StandardScaler()</pre></div></div></div></div></div></div></div>"
      ],
      "text/plain": [
       "Pipeline(steps=[('imputation_mean', SimpleImputer()),\n",
       "                ('scaler', StandardScaler())])"
      ]
     },
     "execution_count": 36,
     "metadata": {},
     "output_type": "execute_result"
    }
   ],
   "source": [
    "numeric_processor"
   ]
  },
  {
   "cell_type": "code",
   "execution_count": null,
   "id": "a1cc5e77",
   "metadata": {},
   "outputs": [],
   "source": [
    "## Categorical processing pipeline"
   ]
  },
  {
   "cell_type": "code",
   "execution_count": 39,
   "id": "ab34209e",
   "metadata": {},
   "outputs": [],
   "source": [
    "## numerical processing pipeliZ\n",
    "from sklearn.preprocessing import OneHotEncoder\n",
    "categorical_processor=Pipeline(\n",
    "    steps=[(\"imputation_constant\",SimpleImputer(fill_value=\"missing\",strategy=\"constant\")),\n",
    "          (\"scaler\",OneHotEncoder(handle_unknown=\"ignore\"))]\n",
    "\n",
    ")"
   ]
  },
  {
   "cell_type": "code",
   "execution_count": 40,
   "id": "9fb117ab",
   "metadata": {},
   "outputs": [
    {
     "data": {
      "text/html": [
       "<style>#sk-865c5c0f-6244-4b2f-b1c6-76348e771faa {color: black;background-color: white;}#sk-865c5c0f-6244-4b2f-b1c6-76348e771faa pre{padding: 0;}#sk-865c5c0f-6244-4b2f-b1c6-76348e771faa div.sk-toggleable {background-color: white;}#sk-865c5c0f-6244-4b2f-b1c6-76348e771faa label.sk-toggleable__label {cursor: pointer;display: block;width: 100%;margin-bottom: 0;padding: 0.3em;box-sizing: border-box;text-align: center;}#sk-865c5c0f-6244-4b2f-b1c6-76348e771faa label.sk-toggleable__label-arrow:before {content: \"▸\";float: left;margin-right: 0.25em;color: #696969;}#sk-865c5c0f-6244-4b2f-b1c6-76348e771faa label.sk-toggleable__label-arrow:hover:before {color: black;}#sk-865c5c0f-6244-4b2f-b1c6-76348e771faa div.sk-estimator:hover label.sk-toggleable__label-arrow:before {color: black;}#sk-865c5c0f-6244-4b2f-b1c6-76348e771faa div.sk-toggleable__content {max-height: 0;max-width: 0;overflow: hidden;text-align: left;background-color: #f0f8ff;}#sk-865c5c0f-6244-4b2f-b1c6-76348e771faa div.sk-toggleable__content pre {margin: 0.2em;color: black;border-radius: 0.25em;background-color: #f0f8ff;}#sk-865c5c0f-6244-4b2f-b1c6-76348e771faa input.sk-toggleable__control:checked~div.sk-toggleable__content {max-height: 200px;max-width: 100%;overflow: auto;}#sk-865c5c0f-6244-4b2f-b1c6-76348e771faa input.sk-toggleable__control:checked~label.sk-toggleable__label-arrow:before {content: \"▾\";}#sk-865c5c0f-6244-4b2f-b1c6-76348e771faa div.sk-estimator input.sk-toggleable__control:checked~label.sk-toggleable__label {background-color: #d4ebff;}#sk-865c5c0f-6244-4b2f-b1c6-76348e771faa div.sk-label input.sk-toggleable__control:checked~label.sk-toggleable__label {background-color: #d4ebff;}#sk-865c5c0f-6244-4b2f-b1c6-76348e771faa input.sk-hidden--visually {border: 0;clip: rect(1px 1px 1px 1px);clip: rect(1px, 1px, 1px, 1px);height: 1px;margin: -1px;overflow: hidden;padding: 0;position: absolute;width: 1px;}#sk-865c5c0f-6244-4b2f-b1c6-76348e771faa div.sk-estimator {font-family: monospace;background-color: #f0f8ff;border: 1px dotted black;border-radius: 0.25em;box-sizing: border-box;margin-bottom: 0.5em;}#sk-865c5c0f-6244-4b2f-b1c6-76348e771faa div.sk-estimator:hover {background-color: #d4ebff;}#sk-865c5c0f-6244-4b2f-b1c6-76348e771faa div.sk-parallel-item::after {content: \"\";width: 100%;border-bottom: 1px solid gray;flex-grow: 1;}#sk-865c5c0f-6244-4b2f-b1c6-76348e771faa div.sk-label:hover label.sk-toggleable__label {background-color: #d4ebff;}#sk-865c5c0f-6244-4b2f-b1c6-76348e771faa div.sk-serial::before {content: \"\";position: absolute;border-left: 1px solid gray;box-sizing: border-box;top: 2em;bottom: 0;left: 50%;}#sk-865c5c0f-6244-4b2f-b1c6-76348e771faa div.sk-serial {display: flex;flex-direction: column;align-items: center;background-color: white;padding-right: 0.2em;padding-left: 0.2em;}#sk-865c5c0f-6244-4b2f-b1c6-76348e771faa div.sk-item {z-index: 1;}#sk-865c5c0f-6244-4b2f-b1c6-76348e771faa div.sk-parallel {display: flex;align-items: stretch;justify-content: center;background-color: white;}#sk-865c5c0f-6244-4b2f-b1c6-76348e771faa div.sk-parallel::before {content: \"\";position: absolute;border-left: 1px solid gray;box-sizing: border-box;top: 2em;bottom: 0;left: 50%;}#sk-865c5c0f-6244-4b2f-b1c6-76348e771faa div.sk-parallel-item {display: flex;flex-direction: column;position: relative;background-color: white;}#sk-865c5c0f-6244-4b2f-b1c6-76348e771faa div.sk-parallel-item:first-child::after {align-self: flex-end;width: 50%;}#sk-865c5c0f-6244-4b2f-b1c6-76348e771faa div.sk-parallel-item:last-child::after {align-self: flex-start;width: 50%;}#sk-865c5c0f-6244-4b2f-b1c6-76348e771faa div.sk-parallel-item:only-child::after {width: 0;}#sk-865c5c0f-6244-4b2f-b1c6-76348e771faa div.sk-dashed-wrapped {border: 1px dashed gray;margin: 0 0.4em 0.5em 0.4em;box-sizing: border-box;padding-bottom: 0.4em;background-color: white;position: relative;}#sk-865c5c0f-6244-4b2f-b1c6-76348e771faa div.sk-label label {font-family: monospace;font-weight: bold;background-color: white;display: inline-block;line-height: 1.2em;}#sk-865c5c0f-6244-4b2f-b1c6-76348e771faa div.sk-label-container {position: relative;z-index: 2;text-align: center;}#sk-865c5c0f-6244-4b2f-b1c6-76348e771faa div.sk-container {/* jupyter's `normalize.less` sets `[hidden] { display: none; }` but bootstrap.min.css set `[hidden] { display: none !important; }` so we also need the `!important` here to be able to override the default hidden behavior on the sphinx rendered scikit-learn.org. See: https://github.com/scikit-learn/scikit-learn/issues/21755 */display: inline-block !important;position: relative;}#sk-865c5c0f-6244-4b2f-b1c6-76348e771faa div.sk-text-repr-fallback {display: none;}</style><div id=\"sk-865c5c0f-6244-4b2f-b1c6-76348e771faa\" class=\"sk-top-container\"><div class=\"sk-text-repr-fallback\"><pre>Pipeline(steps=[(&#x27;imputation_constant&#x27;,\n",
       "                 SimpleImputer(fill_value=&#x27;missing&#x27;, strategy=&#x27;constant&#x27;)),\n",
       "                (&#x27;scaler&#x27;, OneHotEncoder(handle_unknown=&#x27;ignore&#x27;))])</pre><b>Please rerun this cell to show the HTML repr or trust the notebook.</b></div><div class=\"sk-container\" hidden><div class=\"sk-item sk-dashed-wrapped\"><div class=\"sk-label-container\"><div class=\"sk-label sk-toggleable\"><input class=\"sk-toggleable__control sk-hidden--visually\" id=\"c1c97914-8c71-4d81-b838-ca8a3e371e83\" type=\"checkbox\" ><label for=\"c1c97914-8c71-4d81-b838-ca8a3e371e83\" class=\"sk-toggleable__label sk-toggleable__label-arrow\">Pipeline</label><div class=\"sk-toggleable__content\"><pre>Pipeline(steps=[(&#x27;imputation_constant&#x27;,\n",
       "                 SimpleImputer(fill_value=&#x27;missing&#x27;, strategy=&#x27;constant&#x27;)),\n",
       "                (&#x27;scaler&#x27;, OneHotEncoder(handle_unknown=&#x27;ignore&#x27;))])</pre></div></div></div><div class=\"sk-serial\"><div class=\"sk-item\"><div class=\"sk-estimator sk-toggleable\"><input class=\"sk-toggleable__control sk-hidden--visually\" id=\"2d5cd4e8-9512-40d5-820e-dfc8dce6d904\" type=\"checkbox\" ><label for=\"2d5cd4e8-9512-40d5-820e-dfc8dce6d904\" class=\"sk-toggleable__label sk-toggleable__label-arrow\">SimpleImputer</label><div class=\"sk-toggleable__content\"><pre>SimpleImputer(fill_value=&#x27;missing&#x27;, strategy=&#x27;constant&#x27;)</pre></div></div></div><div class=\"sk-item\"><div class=\"sk-estimator sk-toggleable\"><input class=\"sk-toggleable__control sk-hidden--visually\" id=\"99e1553e-5064-4d86-990e-4f7c33b6e546\" type=\"checkbox\" ><label for=\"99e1553e-5064-4d86-990e-4f7c33b6e546\" class=\"sk-toggleable__label sk-toggleable__label-arrow\">OneHotEncoder</label><div class=\"sk-toggleable__content\"><pre>OneHotEncoder(handle_unknown=&#x27;ignore&#x27;)</pre></div></div></div></div></div></div></div>"
      ],
      "text/plain": [
       "Pipeline(steps=[('imputation_constant',\n",
       "                 SimpleImputer(fill_value='missing', strategy='constant')),\n",
       "                ('scaler', OneHotEncoder(handle_unknown='ignore'))])"
      ]
     },
     "execution_count": 40,
     "metadata": {},
     "output_type": "execute_result"
    }
   ],
   "source": [
    "categorical_processor"
   ]
  },
  {
   "cell_type": "code",
   "execution_count": 41,
   "id": "9fb45e1e",
   "metadata": {},
   "outputs": [],
   "source": [
    "##  combine processing techniques\n",
    "from sklearn.compose import ColumnTransformer"
   ]
  },
  {
   "cell_type": "code",
   "execution_count": 43,
   "id": "c8afca0a",
   "metadata": {},
   "outputs": [],
   "source": [
    "preprocessor=ColumnTransformer(\n",
    "    [('categorical',categorical_processor,[\"gender\",\"city\"]),\n",
    "    ('numerical',numeric_processor,['age','height'])]\n",
    ")"
   ]
  },
  {
   "cell_type": "code",
   "execution_count": 44,
   "id": "07c50bc6",
   "metadata": {},
   "outputs": [
    {
     "data": {
      "text/html": [
       "<style>#sk-a3867bee-5096-4279-a607-a85fcc55210d {color: black;background-color: white;}#sk-a3867bee-5096-4279-a607-a85fcc55210d pre{padding: 0;}#sk-a3867bee-5096-4279-a607-a85fcc55210d div.sk-toggleable {background-color: white;}#sk-a3867bee-5096-4279-a607-a85fcc55210d label.sk-toggleable__label {cursor: pointer;display: block;width: 100%;margin-bottom: 0;padding: 0.3em;box-sizing: border-box;text-align: center;}#sk-a3867bee-5096-4279-a607-a85fcc55210d label.sk-toggleable__label-arrow:before {content: \"▸\";float: left;margin-right: 0.25em;color: #696969;}#sk-a3867bee-5096-4279-a607-a85fcc55210d label.sk-toggleable__label-arrow:hover:before {color: black;}#sk-a3867bee-5096-4279-a607-a85fcc55210d div.sk-estimator:hover label.sk-toggleable__label-arrow:before {color: black;}#sk-a3867bee-5096-4279-a607-a85fcc55210d div.sk-toggleable__content {max-height: 0;max-width: 0;overflow: hidden;text-align: left;background-color: #f0f8ff;}#sk-a3867bee-5096-4279-a607-a85fcc55210d div.sk-toggleable__content pre {margin: 0.2em;color: black;border-radius: 0.25em;background-color: #f0f8ff;}#sk-a3867bee-5096-4279-a607-a85fcc55210d input.sk-toggleable__control:checked~div.sk-toggleable__content {max-height: 200px;max-width: 100%;overflow: auto;}#sk-a3867bee-5096-4279-a607-a85fcc55210d input.sk-toggleable__control:checked~label.sk-toggleable__label-arrow:before {content: \"▾\";}#sk-a3867bee-5096-4279-a607-a85fcc55210d div.sk-estimator input.sk-toggleable__control:checked~label.sk-toggleable__label {background-color: #d4ebff;}#sk-a3867bee-5096-4279-a607-a85fcc55210d div.sk-label input.sk-toggleable__control:checked~label.sk-toggleable__label {background-color: #d4ebff;}#sk-a3867bee-5096-4279-a607-a85fcc55210d input.sk-hidden--visually {border: 0;clip: rect(1px 1px 1px 1px);clip: rect(1px, 1px, 1px, 1px);height: 1px;margin: -1px;overflow: hidden;padding: 0;position: absolute;width: 1px;}#sk-a3867bee-5096-4279-a607-a85fcc55210d div.sk-estimator {font-family: monospace;background-color: #f0f8ff;border: 1px dotted black;border-radius: 0.25em;box-sizing: border-box;margin-bottom: 0.5em;}#sk-a3867bee-5096-4279-a607-a85fcc55210d div.sk-estimator:hover {background-color: #d4ebff;}#sk-a3867bee-5096-4279-a607-a85fcc55210d div.sk-parallel-item::after {content: \"\";width: 100%;border-bottom: 1px solid gray;flex-grow: 1;}#sk-a3867bee-5096-4279-a607-a85fcc55210d div.sk-label:hover label.sk-toggleable__label {background-color: #d4ebff;}#sk-a3867bee-5096-4279-a607-a85fcc55210d div.sk-serial::before {content: \"\";position: absolute;border-left: 1px solid gray;box-sizing: border-box;top: 2em;bottom: 0;left: 50%;}#sk-a3867bee-5096-4279-a607-a85fcc55210d div.sk-serial {display: flex;flex-direction: column;align-items: center;background-color: white;padding-right: 0.2em;padding-left: 0.2em;}#sk-a3867bee-5096-4279-a607-a85fcc55210d div.sk-item {z-index: 1;}#sk-a3867bee-5096-4279-a607-a85fcc55210d div.sk-parallel {display: flex;align-items: stretch;justify-content: center;background-color: white;}#sk-a3867bee-5096-4279-a607-a85fcc55210d div.sk-parallel::before {content: \"\";position: absolute;border-left: 1px solid gray;box-sizing: border-box;top: 2em;bottom: 0;left: 50%;}#sk-a3867bee-5096-4279-a607-a85fcc55210d div.sk-parallel-item {display: flex;flex-direction: column;position: relative;background-color: white;}#sk-a3867bee-5096-4279-a607-a85fcc55210d div.sk-parallel-item:first-child::after {align-self: flex-end;width: 50%;}#sk-a3867bee-5096-4279-a607-a85fcc55210d div.sk-parallel-item:last-child::after {align-self: flex-start;width: 50%;}#sk-a3867bee-5096-4279-a607-a85fcc55210d div.sk-parallel-item:only-child::after {width: 0;}#sk-a3867bee-5096-4279-a607-a85fcc55210d div.sk-dashed-wrapped {border: 1px dashed gray;margin: 0 0.4em 0.5em 0.4em;box-sizing: border-box;padding-bottom: 0.4em;background-color: white;position: relative;}#sk-a3867bee-5096-4279-a607-a85fcc55210d div.sk-label label {font-family: monospace;font-weight: bold;background-color: white;display: inline-block;line-height: 1.2em;}#sk-a3867bee-5096-4279-a607-a85fcc55210d div.sk-label-container {position: relative;z-index: 2;text-align: center;}#sk-a3867bee-5096-4279-a607-a85fcc55210d div.sk-container {/* jupyter's `normalize.less` sets `[hidden] { display: none; }` but bootstrap.min.css set `[hidden] { display: none !important; }` so we also need the `!important` here to be able to override the default hidden behavior on the sphinx rendered scikit-learn.org. See: https://github.com/scikit-learn/scikit-learn/issues/21755 */display: inline-block !important;position: relative;}#sk-a3867bee-5096-4279-a607-a85fcc55210d div.sk-text-repr-fallback {display: none;}</style><div id=\"sk-a3867bee-5096-4279-a607-a85fcc55210d\" class=\"sk-top-container\"><div class=\"sk-text-repr-fallback\"><pre>ColumnTransformer(transformers=[(&#x27;categorical&#x27;,\n",
       "                                 Pipeline(steps=[(&#x27;imputation_constant&#x27;,\n",
       "                                                  SimpleImputer(fill_value=&#x27;missing&#x27;,\n",
       "                                                                strategy=&#x27;constant&#x27;)),\n",
       "                                                 (&#x27;scaler&#x27;,\n",
       "                                                  OneHotEncoder(handle_unknown=&#x27;ignore&#x27;))]),\n",
       "                                 [&#x27;gender&#x27;, &#x27;city&#x27;]),\n",
       "                                (&#x27;numerical&#x27;,\n",
       "                                 Pipeline(steps=[(&#x27;imputation_mean&#x27;,\n",
       "                                                  SimpleImputer()),\n",
       "                                                 (&#x27;scaler&#x27;, StandardScaler())]),\n",
       "                                 [&#x27;age&#x27;, &#x27;height&#x27;])])</pre><b>Please rerun this cell to show the HTML repr or trust the notebook.</b></div><div class=\"sk-container\" hidden><div class=\"sk-item sk-dashed-wrapped\"><div class=\"sk-label-container\"><div class=\"sk-label sk-toggleable\"><input class=\"sk-toggleable__control sk-hidden--visually\" id=\"ef697080-f6b4-47b9-9d58-be2a19f59569\" type=\"checkbox\" ><label for=\"ef697080-f6b4-47b9-9d58-be2a19f59569\" class=\"sk-toggleable__label sk-toggleable__label-arrow\">ColumnTransformer</label><div class=\"sk-toggleable__content\"><pre>ColumnTransformer(transformers=[(&#x27;categorical&#x27;,\n",
       "                                 Pipeline(steps=[(&#x27;imputation_constant&#x27;,\n",
       "                                                  SimpleImputer(fill_value=&#x27;missing&#x27;,\n",
       "                                                                strategy=&#x27;constant&#x27;)),\n",
       "                                                 (&#x27;scaler&#x27;,\n",
       "                                                  OneHotEncoder(handle_unknown=&#x27;ignore&#x27;))]),\n",
       "                                 [&#x27;gender&#x27;, &#x27;city&#x27;]),\n",
       "                                (&#x27;numerical&#x27;,\n",
       "                                 Pipeline(steps=[(&#x27;imputation_mean&#x27;,\n",
       "                                                  SimpleImputer()),\n",
       "                                                 (&#x27;scaler&#x27;, StandardScaler())]),\n",
       "                                 [&#x27;age&#x27;, &#x27;height&#x27;])])</pre></div></div></div><div class=\"sk-parallel\"><div class=\"sk-parallel-item\"><div class=\"sk-item\"><div class=\"sk-label-container\"><div class=\"sk-label sk-toggleable\"><input class=\"sk-toggleable__control sk-hidden--visually\" id=\"c520573b-3d41-49ee-98ec-c40148cc0e03\" type=\"checkbox\" ><label for=\"c520573b-3d41-49ee-98ec-c40148cc0e03\" class=\"sk-toggleable__label sk-toggleable__label-arrow\">categorical</label><div class=\"sk-toggleable__content\"><pre>[&#x27;gender&#x27;, &#x27;city&#x27;]</pre></div></div></div><div class=\"sk-serial\"><div class=\"sk-item\"><div class=\"sk-serial\"><div class=\"sk-item\"><div class=\"sk-estimator sk-toggleable\"><input class=\"sk-toggleable__control sk-hidden--visually\" id=\"2e1d1fc2-87be-49ee-9200-ca6d4e0bcb45\" type=\"checkbox\" ><label for=\"2e1d1fc2-87be-49ee-9200-ca6d4e0bcb45\" class=\"sk-toggleable__label sk-toggleable__label-arrow\">SimpleImputer</label><div class=\"sk-toggleable__content\"><pre>SimpleImputer(fill_value=&#x27;missing&#x27;, strategy=&#x27;constant&#x27;)</pre></div></div></div><div class=\"sk-item\"><div class=\"sk-estimator sk-toggleable\"><input class=\"sk-toggleable__control sk-hidden--visually\" id=\"4b5471ba-560e-4da3-a9b3-075e4f44456d\" type=\"checkbox\" ><label for=\"4b5471ba-560e-4da3-a9b3-075e4f44456d\" class=\"sk-toggleable__label sk-toggleable__label-arrow\">OneHotEncoder</label><div class=\"sk-toggleable__content\"><pre>OneHotEncoder(handle_unknown=&#x27;ignore&#x27;)</pre></div></div></div></div></div></div></div></div><div class=\"sk-parallel-item\"><div class=\"sk-item\"><div class=\"sk-label-container\"><div class=\"sk-label sk-toggleable\"><input class=\"sk-toggleable__control sk-hidden--visually\" id=\"67c309ad-fbe3-4e21-bfbc-efd608f7371b\" type=\"checkbox\" ><label for=\"67c309ad-fbe3-4e21-bfbc-efd608f7371b\" class=\"sk-toggleable__label sk-toggleable__label-arrow\">numerical</label><div class=\"sk-toggleable__content\"><pre>[&#x27;age&#x27;, &#x27;height&#x27;]</pre></div></div></div><div class=\"sk-serial\"><div class=\"sk-item\"><div class=\"sk-serial\"><div class=\"sk-item\"><div class=\"sk-estimator sk-toggleable\"><input class=\"sk-toggleable__control sk-hidden--visually\" id=\"35894fc6-7fa1-4a9c-a7b8-a0d84d6da5e2\" type=\"checkbox\" ><label for=\"35894fc6-7fa1-4a9c-a7b8-a0d84d6da5e2\" class=\"sk-toggleable__label sk-toggleable__label-arrow\">SimpleImputer</label><div class=\"sk-toggleable__content\"><pre>SimpleImputer()</pre></div></div></div><div class=\"sk-item\"><div class=\"sk-estimator sk-toggleable\"><input class=\"sk-toggleable__control sk-hidden--visually\" id=\"1dc7eba1-5215-4765-92f1-6c853723aeea\" type=\"checkbox\" ><label for=\"1dc7eba1-5215-4765-92f1-6c853723aeea\" class=\"sk-toggleable__label sk-toggleable__label-arrow\">StandardScaler</label><div class=\"sk-toggleable__content\"><pre>StandardScaler()</pre></div></div></div></div></div></div></div></div></div></div></div></div>"
      ],
      "text/plain": [
       "ColumnTransformer(transformers=[('categorical',\n",
       "                                 Pipeline(steps=[('imputation_constant',\n",
       "                                                  SimpleImputer(fill_value='missing',\n",
       "                                                                strategy='constant')),\n",
       "                                                 ('scaler',\n",
       "                                                  OneHotEncoder(handle_unknown='ignore'))]),\n",
       "                                 ['gender', 'city']),\n",
       "                                ('numerical',\n",
       "                                 Pipeline(steps=[('imputation_mean',\n",
       "                                                  SimpleImputer()),\n",
       "                                                 ('scaler', StandardScaler())]),\n",
       "                                 ['age', 'height'])])"
      ]
     },
     "execution_count": 44,
     "metadata": {},
     "output_type": "execute_result"
    }
   ],
   "source": [
    "preprocessor"
   ]
  },
  {
   "cell_type": "code",
   "execution_count": 45,
   "id": "0a850c4d",
   "metadata": {},
   "outputs": [],
   "source": [
    "from sklearn.pipeline import make_pipeline"
   ]
  },
  {
   "cell_type": "code",
   "execution_count": 52,
   "id": "08b26714",
   "metadata": {},
   "outputs": [],
   "source": [
    "pipe=make_pipeline(preprocessor,LogisticRegression())"
   ]
  },
  {
   "cell_type": "code",
   "execution_count": 53,
   "id": "572c6fa4",
   "metadata": {},
   "outputs": [
    {
     "data": {
      "text/html": [
       "<style>#sk-6d9ad02b-aa68-4de9-9e6b-95f132271802 {color: black;background-color: white;}#sk-6d9ad02b-aa68-4de9-9e6b-95f132271802 pre{padding: 0;}#sk-6d9ad02b-aa68-4de9-9e6b-95f132271802 div.sk-toggleable {background-color: white;}#sk-6d9ad02b-aa68-4de9-9e6b-95f132271802 label.sk-toggleable__label {cursor: pointer;display: block;width: 100%;margin-bottom: 0;padding: 0.3em;box-sizing: border-box;text-align: center;}#sk-6d9ad02b-aa68-4de9-9e6b-95f132271802 label.sk-toggleable__label-arrow:before {content: \"▸\";float: left;margin-right: 0.25em;color: #696969;}#sk-6d9ad02b-aa68-4de9-9e6b-95f132271802 label.sk-toggleable__label-arrow:hover:before {color: black;}#sk-6d9ad02b-aa68-4de9-9e6b-95f132271802 div.sk-estimator:hover label.sk-toggleable__label-arrow:before {color: black;}#sk-6d9ad02b-aa68-4de9-9e6b-95f132271802 div.sk-toggleable__content {max-height: 0;max-width: 0;overflow: hidden;text-align: left;background-color: #f0f8ff;}#sk-6d9ad02b-aa68-4de9-9e6b-95f132271802 div.sk-toggleable__content pre {margin: 0.2em;color: black;border-radius: 0.25em;background-color: #f0f8ff;}#sk-6d9ad02b-aa68-4de9-9e6b-95f132271802 input.sk-toggleable__control:checked~div.sk-toggleable__content {max-height: 200px;max-width: 100%;overflow: auto;}#sk-6d9ad02b-aa68-4de9-9e6b-95f132271802 input.sk-toggleable__control:checked~label.sk-toggleable__label-arrow:before {content: \"▾\";}#sk-6d9ad02b-aa68-4de9-9e6b-95f132271802 div.sk-estimator input.sk-toggleable__control:checked~label.sk-toggleable__label {background-color: #d4ebff;}#sk-6d9ad02b-aa68-4de9-9e6b-95f132271802 div.sk-label input.sk-toggleable__control:checked~label.sk-toggleable__label {background-color: #d4ebff;}#sk-6d9ad02b-aa68-4de9-9e6b-95f132271802 input.sk-hidden--visually {border: 0;clip: rect(1px 1px 1px 1px);clip: rect(1px, 1px, 1px, 1px);height: 1px;margin: -1px;overflow: hidden;padding: 0;position: absolute;width: 1px;}#sk-6d9ad02b-aa68-4de9-9e6b-95f132271802 div.sk-estimator {font-family: monospace;background-color: #f0f8ff;border: 1px dotted black;border-radius: 0.25em;box-sizing: border-box;margin-bottom: 0.5em;}#sk-6d9ad02b-aa68-4de9-9e6b-95f132271802 div.sk-estimator:hover {background-color: #d4ebff;}#sk-6d9ad02b-aa68-4de9-9e6b-95f132271802 div.sk-parallel-item::after {content: \"\";width: 100%;border-bottom: 1px solid gray;flex-grow: 1;}#sk-6d9ad02b-aa68-4de9-9e6b-95f132271802 div.sk-label:hover label.sk-toggleable__label {background-color: #d4ebff;}#sk-6d9ad02b-aa68-4de9-9e6b-95f132271802 div.sk-serial::before {content: \"\";position: absolute;border-left: 1px solid gray;box-sizing: border-box;top: 2em;bottom: 0;left: 50%;}#sk-6d9ad02b-aa68-4de9-9e6b-95f132271802 div.sk-serial {display: flex;flex-direction: column;align-items: center;background-color: white;padding-right: 0.2em;padding-left: 0.2em;}#sk-6d9ad02b-aa68-4de9-9e6b-95f132271802 div.sk-item {z-index: 1;}#sk-6d9ad02b-aa68-4de9-9e6b-95f132271802 div.sk-parallel {display: flex;align-items: stretch;justify-content: center;background-color: white;}#sk-6d9ad02b-aa68-4de9-9e6b-95f132271802 div.sk-parallel::before {content: \"\";position: absolute;border-left: 1px solid gray;box-sizing: border-box;top: 2em;bottom: 0;left: 50%;}#sk-6d9ad02b-aa68-4de9-9e6b-95f132271802 div.sk-parallel-item {display: flex;flex-direction: column;position: relative;background-color: white;}#sk-6d9ad02b-aa68-4de9-9e6b-95f132271802 div.sk-parallel-item:first-child::after {align-self: flex-end;width: 50%;}#sk-6d9ad02b-aa68-4de9-9e6b-95f132271802 div.sk-parallel-item:last-child::after {align-self: flex-start;width: 50%;}#sk-6d9ad02b-aa68-4de9-9e6b-95f132271802 div.sk-parallel-item:only-child::after {width: 0;}#sk-6d9ad02b-aa68-4de9-9e6b-95f132271802 div.sk-dashed-wrapped {border: 1px dashed gray;margin: 0 0.4em 0.5em 0.4em;box-sizing: border-box;padding-bottom: 0.4em;background-color: white;position: relative;}#sk-6d9ad02b-aa68-4de9-9e6b-95f132271802 div.sk-label label {font-family: monospace;font-weight: bold;background-color: white;display: inline-block;line-height: 1.2em;}#sk-6d9ad02b-aa68-4de9-9e6b-95f132271802 div.sk-label-container {position: relative;z-index: 2;text-align: center;}#sk-6d9ad02b-aa68-4de9-9e6b-95f132271802 div.sk-container {/* jupyter's `normalize.less` sets `[hidden] { display: none; }` but bootstrap.min.css set `[hidden] { display: none !important; }` so we also need the `!important` here to be able to override the default hidden behavior on the sphinx rendered scikit-learn.org. See: https://github.com/scikit-learn/scikit-learn/issues/21755 */display: inline-block !important;position: relative;}#sk-6d9ad02b-aa68-4de9-9e6b-95f132271802 div.sk-text-repr-fallback {display: none;}</style><div id=\"sk-6d9ad02b-aa68-4de9-9e6b-95f132271802\" class=\"sk-top-container\"><div class=\"sk-text-repr-fallback\"><pre>Pipeline(steps=[(&#x27;columntransformer&#x27;,\n",
       "                 ColumnTransformer(transformers=[(&#x27;categorical&#x27;,\n",
       "                                                  Pipeline(steps=[(&#x27;imputation_constant&#x27;,\n",
       "                                                                   SimpleImputer(fill_value=&#x27;missing&#x27;,\n",
       "                                                                                 strategy=&#x27;constant&#x27;)),\n",
       "                                                                  (&#x27;scaler&#x27;,\n",
       "                                                                   OneHotEncoder(handle_unknown=&#x27;ignore&#x27;))]),\n",
       "                                                  [&#x27;gender&#x27;, &#x27;city&#x27;]),\n",
       "                                                 (&#x27;numerical&#x27;,\n",
       "                                                  Pipeline(steps=[(&#x27;imputation_mean&#x27;,\n",
       "                                                                   SimpleImputer()),\n",
       "                                                                  (&#x27;scaler&#x27;,\n",
       "                                                                   StandardScaler())]),\n",
       "                                                  [&#x27;age&#x27;, &#x27;height&#x27;])])),\n",
       "                (&#x27;logisticregression&#x27;, LogisticRegression())])</pre><b>Please rerun this cell to show the HTML repr or trust the notebook.</b></div><div class=\"sk-container\" hidden><div class=\"sk-item sk-dashed-wrapped\"><div class=\"sk-label-container\"><div class=\"sk-label sk-toggleable\"><input class=\"sk-toggleable__control sk-hidden--visually\" id=\"994e94c2-894c-4c54-961e-1ca1f7bc4869\" type=\"checkbox\" ><label for=\"994e94c2-894c-4c54-961e-1ca1f7bc4869\" class=\"sk-toggleable__label sk-toggleable__label-arrow\">Pipeline</label><div class=\"sk-toggleable__content\"><pre>Pipeline(steps=[(&#x27;columntransformer&#x27;,\n",
       "                 ColumnTransformer(transformers=[(&#x27;categorical&#x27;,\n",
       "                                                  Pipeline(steps=[(&#x27;imputation_constant&#x27;,\n",
       "                                                                   SimpleImputer(fill_value=&#x27;missing&#x27;,\n",
       "                                                                                 strategy=&#x27;constant&#x27;)),\n",
       "                                                                  (&#x27;scaler&#x27;,\n",
       "                                                                   OneHotEncoder(handle_unknown=&#x27;ignore&#x27;))]),\n",
       "                                                  [&#x27;gender&#x27;, &#x27;city&#x27;]),\n",
       "                                                 (&#x27;numerical&#x27;,\n",
       "                                                  Pipeline(steps=[(&#x27;imputation_mean&#x27;,\n",
       "                                                                   SimpleImputer()),\n",
       "                                                                  (&#x27;scaler&#x27;,\n",
       "                                                                   StandardScaler())]),\n",
       "                                                  [&#x27;age&#x27;, &#x27;height&#x27;])])),\n",
       "                (&#x27;logisticregression&#x27;, LogisticRegression())])</pre></div></div></div><div class=\"sk-serial\"><div class=\"sk-item sk-dashed-wrapped\"><div class=\"sk-label-container\"><div class=\"sk-label sk-toggleable\"><input class=\"sk-toggleable__control sk-hidden--visually\" id=\"e98737d5-eafd-4ee7-84d2-9231df262984\" type=\"checkbox\" ><label for=\"e98737d5-eafd-4ee7-84d2-9231df262984\" class=\"sk-toggleable__label sk-toggleable__label-arrow\">columntransformer: ColumnTransformer</label><div class=\"sk-toggleable__content\"><pre>ColumnTransformer(transformers=[(&#x27;categorical&#x27;,\n",
       "                                 Pipeline(steps=[(&#x27;imputation_constant&#x27;,\n",
       "                                                  SimpleImputer(fill_value=&#x27;missing&#x27;,\n",
       "                                                                strategy=&#x27;constant&#x27;)),\n",
       "                                                 (&#x27;scaler&#x27;,\n",
       "                                                  OneHotEncoder(handle_unknown=&#x27;ignore&#x27;))]),\n",
       "                                 [&#x27;gender&#x27;, &#x27;city&#x27;]),\n",
       "                                (&#x27;numerical&#x27;,\n",
       "                                 Pipeline(steps=[(&#x27;imputation_mean&#x27;,\n",
       "                                                  SimpleImputer()),\n",
       "                                                 (&#x27;scaler&#x27;, StandardScaler())]),\n",
       "                                 [&#x27;age&#x27;, &#x27;height&#x27;])])</pre></div></div></div><div class=\"sk-parallel\"><div class=\"sk-parallel-item\"><div class=\"sk-item\"><div class=\"sk-label-container\"><div class=\"sk-label sk-toggleable\"><input class=\"sk-toggleable__control sk-hidden--visually\" id=\"a25c0049-b23b-45f5-8708-4563ae659bfd\" type=\"checkbox\" ><label for=\"a25c0049-b23b-45f5-8708-4563ae659bfd\" class=\"sk-toggleable__label sk-toggleable__label-arrow\">categorical</label><div class=\"sk-toggleable__content\"><pre>[&#x27;gender&#x27;, &#x27;city&#x27;]</pre></div></div></div><div class=\"sk-serial\"><div class=\"sk-item\"><div class=\"sk-serial\"><div class=\"sk-item\"><div class=\"sk-estimator sk-toggleable\"><input class=\"sk-toggleable__control sk-hidden--visually\" id=\"63de1502-3812-4afb-bfb0-446f49cceedf\" type=\"checkbox\" ><label for=\"63de1502-3812-4afb-bfb0-446f49cceedf\" class=\"sk-toggleable__label sk-toggleable__label-arrow\">SimpleImputer</label><div class=\"sk-toggleable__content\"><pre>SimpleImputer(fill_value=&#x27;missing&#x27;, strategy=&#x27;constant&#x27;)</pre></div></div></div><div class=\"sk-item\"><div class=\"sk-estimator sk-toggleable\"><input class=\"sk-toggleable__control sk-hidden--visually\" id=\"95127b05-7aa7-41c8-9857-5482ed8c4e13\" type=\"checkbox\" ><label for=\"95127b05-7aa7-41c8-9857-5482ed8c4e13\" class=\"sk-toggleable__label sk-toggleable__label-arrow\">OneHotEncoder</label><div class=\"sk-toggleable__content\"><pre>OneHotEncoder(handle_unknown=&#x27;ignore&#x27;)</pre></div></div></div></div></div></div></div></div><div class=\"sk-parallel-item\"><div class=\"sk-item\"><div class=\"sk-label-container\"><div class=\"sk-label sk-toggleable\"><input class=\"sk-toggleable__control sk-hidden--visually\" id=\"6a654c15-6cb3-4073-aa24-fc97367206aa\" type=\"checkbox\" ><label for=\"6a654c15-6cb3-4073-aa24-fc97367206aa\" class=\"sk-toggleable__label sk-toggleable__label-arrow\">numerical</label><div class=\"sk-toggleable__content\"><pre>[&#x27;age&#x27;, &#x27;height&#x27;]</pre></div></div></div><div class=\"sk-serial\"><div class=\"sk-item\"><div class=\"sk-serial\"><div class=\"sk-item\"><div class=\"sk-estimator sk-toggleable\"><input class=\"sk-toggleable__control sk-hidden--visually\" id=\"c494bdeb-d1fc-4acf-bc59-4cfaa617c6c9\" type=\"checkbox\" ><label for=\"c494bdeb-d1fc-4acf-bc59-4cfaa617c6c9\" class=\"sk-toggleable__label sk-toggleable__label-arrow\">SimpleImputer</label><div class=\"sk-toggleable__content\"><pre>SimpleImputer()</pre></div></div></div><div class=\"sk-item\"><div class=\"sk-estimator sk-toggleable\"><input class=\"sk-toggleable__control sk-hidden--visually\" id=\"0c77189a-88ca-4d61-aefa-02ec6b254dd8\" type=\"checkbox\" ><label for=\"0c77189a-88ca-4d61-aefa-02ec6b254dd8\" class=\"sk-toggleable__label sk-toggleable__label-arrow\">StandardScaler</label><div class=\"sk-toggleable__content\"><pre>StandardScaler()</pre></div></div></div></div></div></div></div></div></div></div><div class=\"sk-item\"><div class=\"sk-estimator sk-toggleable\"><input class=\"sk-toggleable__control sk-hidden--visually\" id=\"49620650-5dc6-4aed-bcdc-460a1a698ead\" type=\"checkbox\" ><label for=\"49620650-5dc6-4aed-bcdc-460a1a698ead\" class=\"sk-toggleable__label sk-toggleable__label-arrow\">LogisticRegression</label><div class=\"sk-toggleable__content\"><pre>LogisticRegression()</pre></div></div></div></div></div></div></div>"
      ],
      "text/plain": [
       "Pipeline(steps=[('columntransformer',\n",
       "                 ColumnTransformer(transformers=[('categorical',\n",
       "                                                  Pipeline(steps=[('imputation_constant',\n",
       "                                                                   SimpleImputer(fill_value='missing',\n",
       "                                                                                 strategy='constant')),\n",
       "                                                                  ('scaler',\n",
       "                                                                   OneHotEncoder(handle_unknown='ignore'))]),\n",
       "                                                  ['gender', 'city']),\n",
       "                                                 ('numerical',\n",
       "                                                  Pipeline(steps=[('imputation_mean',\n",
       "                                                                   SimpleImputer()),\n",
       "                                                                  ('scaler',\n",
       "                                                                   StandardScaler())]),\n",
       "                                                  ['age', 'height'])])),\n",
       "                ('logisticregression', LogisticRegression())])"
      ]
     },
     "execution_count": 53,
     "metadata": {},
     "output_type": "execute_result"
    }
   ],
   "source": [
    "pipe"
   ]
  }
 ],
 "metadata": {
  "kernelspec": {
   "display_name": "Python 3 (ipykernel)",
   "language": "python",
   "name": "python3"
  },
  "language_info": {
   "codemirror_mode": {
    "name": "ipython",
    "version": 3
   },
   "file_extension": ".py",
   "mimetype": "text/x-python",
   "name": "python",
   "nbconvert_exporter": "python",
   "pygments_lexer": "ipython3",
   "version": "3.9.12"
  }
 },
 "nbformat": 4,
 "nbformat_minor": 5
}
